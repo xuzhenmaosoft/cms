{
 "cells": [
  {
   "cell_type": "markdown",
   "metadata": {},
   "source": [
    "#  1.深度模型"
   ]
  },
  {
   "cell_type": "markdown",
   "metadata": {},
   "source": [
    "### 1.1模型训练\n",
    "\n",
    "参数说明：\n",
    "- --model_dir 训练好的模型文件存放位置， \n",
    "- --train_epochs 模型迭代次数， \n",
    "- --batch_size 模型批处理的数据大小， \n",
    "- --train_data 模型训练数据，\n",
    "- --job_name 运行的任务类型\n",
    "- --task_index 任务索引"
   ]
  },
  {
   "cell_type": "code",
   "execution_count": null,
   "metadata": {},
   "outputs": [],
   "source": [
    "%run -i train_model_DNN.py "
   ]
  },
  {
   "cell_type": "markdown",
   "metadata": {},
   "source": [
    "\n",
    "### 1.2 模型预测\n",
    "\n",
    "参数说明：\n",
    "- --model_dir 训练好的模型文件存放位置 \n",
    "- --test_data 模型预测数据\n",
    "- --test_dir 预测数据结果存放位置"
   ]
  },
  {
   "cell_type": "code",
   "execution_count": null,
   "metadata": {},
   "outputs": [],
   "source": [
    "%run -i pred_DNN.py "
   ]
  },
  {
   "cell_type": "markdown",
   "metadata": {},
   "source": [
    "### 1.3 使用模型遍历的所有的参数组合并且打分\n",
    "\n",
    "参数说明：\n",
    "- --model_dir 训练好的模型文件存放位置， \n",
    "- --precision 参数组合精度（精度受内存限制，如果出现内存不足，需要修改这个参数） \n",
    "- --test_dir 预测数据结果存放位置"
   ]
  },
  {
   "cell_type": "code",
   "execution_count": null,
   "metadata": {},
   "outputs": [],
   "source": [
    "#需要的内存最小，展示用\n",
    "\n",
    "%run -i generate_DNN.py --precision demo"
   ]
  },
  {
   "cell_type": "code",
   "execution_count": null,
   "metadata": {},
   "outputs": [],
   "source": [
    "#需要的内存中等\n",
    "\n",
    "%run -i generate_DNN.py --precision low"
   ]
  },
  {
   "cell_type": "code",
   "execution_count": null,
   "metadata": {},
   "outputs": [],
   "source": [
    "#需要的内存最大\n",
    "\n",
    "%run -i generate_DNN.py --precision high"
   ]
  },
  {
   "cell_type": "markdown",
   "metadata": {},
   "source": [
    "#  2.线形模型"
   ]
  },
  {
   "cell_type": "markdown",
   "metadata": {},
   "source": [
    "### 2.1模型训练\n",
    "\n",
    "参数说明：\n",
    "- --model_dir 训练好的模型文件存放位置， \n",
    "- --train_epochs 模型迭代次数， \n",
    "- --batch_size 模型批处理的数据大小， \n",
    "- --train_data 模型训练数据，\n",
    "- --job_name 运行的任务类型\n",
    "- --task_index 任务索引"
   ]
  },
  {
   "cell_type": "code",
   "execution_count": null,
   "metadata": {},
   "outputs": [],
   "source": [
    "%run -i train_model_Linear.py"
   ]
  },
  {
   "cell_type": "markdown",
   "metadata": {},
   "source": [
    "### 2.2 模型预测\n",
    "\n",
    "参数说明：\n",
    "- --model_dir 训练好的模型文件存放位置 \n",
    "- --test_data 模型预测数据\n",
    "- --test_dir 预测数据结果存放位置"
   ]
  },
  {
   "cell_type": "code",
   "execution_count": null,
   "metadata": {},
   "outputs": [],
   "source": [
    "%run -i pred_Linear.py "
   ]
  },
  {
   "cell_type": "markdown",
   "metadata": {},
   "source": [
    "# 3.准确度评估"
   ]
  },
  {
   "cell_type": "markdown",
   "metadata": {},
   "source": [
    "### 深度模型"
   ]
  },
  {
   "cell_type": "code",
   "execution_count": null,
   "metadata": {},
   "outputs": [],
   "source": [
    "# test mse\n",
    "from sklearn.metrics import mean_squared_error, mean_absolute_error\n",
    "y_ture = pd.read_csv('./data/20180128.csv')['y']\n",
    "y_pred = pd.read_csv('./result/pred_dnn.csv')['y_pred']\n",
    "\n",
    "print('深度模型mse:{}'.format(mean_squared_error(y_ture,y_pred)))\n",
    "print('深度模型mae:{}'.format(mean_absolute_error(y_ture,y_pred)))\n"
   ]
  },
  {
   "cell_type": "markdown",
   "metadata": {},
   "source": [
    "### 线形模型"
   ]
  },
  {
   "cell_type": "code",
   "execution_count": null,
   "metadata": {},
   "outputs": [],
   "source": [
    "# test mse\n",
    "from sklearn.metrics import mean_squared_error, mean_absolute_error\n",
    "y_ture = pd.read_csv('./data/20180128.csv')['y']\n",
    "y_pred = pd.read_csv('./result/pred_linear.csv')['y_pred']\n",
    "\n",
    "print('线形模型mse:{}'.format(mean_squared_error(y_ture,y_pred)))\n",
    "print('线形模型mae:{}'.format(mean_absolute_error(y_ture,y_pred)))"
   ]
  }
 ],
 "metadata": {
  "kernelspec": {
   "display_name": "Python 3",
   "language": "python",
   "name": "python3"
  },
  "language_info": {
   "codemirror_mode": {
    "name": "ipython",
    "version": 3
   },
   "file_extension": ".py",
   "mimetype": "text/x-python",
   "name": "python",
   "nbconvert_exporter": "python",
   "pygments_lexer": "ipython3",
   "version": "3.5.4"
  }
 },
 "nbformat": 4,
 "nbformat_minor": 2
}
